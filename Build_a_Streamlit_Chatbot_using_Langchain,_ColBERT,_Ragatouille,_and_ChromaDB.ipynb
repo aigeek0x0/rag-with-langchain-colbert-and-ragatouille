{
  "nbformat": 4,
  "nbformat_minor": 0,
  "metadata": {
    "colab": {
      "provenance": [],
      "gpuType": "T4"
    },
    "kernelspec": {
      "name": "python3",
      "display_name": "Python 3"
    },
    "language_info": {
      "name": "python"
    },
    "accelerator": "GPU"
  },
  "cells": [
    {
      "cell_type": "markdown",
      "source": [
        "## Build a Streamlit Chatbot using Langchain, ColBERT, Ragatouille, and ChromaDB!\n",
        "\n",
        "![_logo-2-final-no-bg-small.png](data:image/png;base64,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)\n",
        "\n",
        "Instructions:\n",
        "To successfully run this app, make sure you have the following two API keys: Together AI and ngrok.\n",
        "\n",
        "Follow these steps:\n",
        "- Replace the placeholders in the code with your actual API keys. Locate the text:\n",
        "\n",
        "INSERT YOUR TOGETHER AI API KEY HERE\n",
        "INSERT YOUR NGROK API KEY HERE\n",
        "\n",
        "and replace them with your Together AI and ngrok API keys, respectively.\n",
        "\n",
        "- After replacing the keys, execute all the cells in the code.\n",
        "\n",
        "- Once the code is executed, ngrok will generate a link for the Streamlit app. Use this link to access and interact with the app.\n",
        "\n"
      ],
      "metadata": {
        "id": "ND03rh6ZTddt"
      }
    },
    {
      "cell_type": "markdown",
      "source": [
        "### Install Dependencies"
      ],
      "metadata": {
        "id": "5eppENGCSIHW"
      }
    },
    {
      "cell_type": "code",
      "execution_count": null,
      "metadata": {
        "id": "9LVmAMDyGVP3"
      },
      "outputs": [],
      "source": [
        "!pip install streamlit langchain sentence-transformers pypdf chromadb --quiet"
      ]
    },
    {
      "cell_type": "code",
      "source": [
        "!pip install -U ragatouille --quiet\n",
        "!pip uninstall --y faiss-cpu & pip install faiss-gpu --quiet"
      ],
      "metadata": {
        "id": "0iJZ2ChGIX1R"
      },
      "execution_count": null,
      "outputs": []
    },
    {
      "cell_type": "markdown",
      "source": [
        "### Create ColBERT index using Ragatouille"
      ],
      "metadata": {
        "id": "3gGrbSXgR_2_"
      }
    },
    {
      "cell_type": "code",
      "source": [
        "!wget https://arxiv.org/pdf/2005.11401.pdf"
      ],
      "metadata": {
        "id": "yR88z08PJER5"
      },
      "execution_count": null,
      "outputs": []
    },
    {
      "cell_type": "code",
      "source": [
        "## ragatouille/colbert implmentation\n",
        "from ragatouille import RAGPretrainedModel\n",
        "from langchain_community.document_loaders import PyPDFLoader\n",
        "\n",
        "loader = PyPDFLoader(\"2005.11401.pdf\")\n",
        "r_docs = loader.load_and_split()\n",
        "\n",
        "RAG = RAGPretrainedModel.from_pretrained(\"colbert-ir/colbertv2.0\")\n",
        "\n",
        "ragatouille_docs = [str(doc) for doc in r_docs]\n",
        "\n",
        "RAG.index(\n",
        "  collection=ragatouille_docs,\n",
        "  index_name=\"langchain-index\",\n",
        "  max_document_length=512,\n",
        "  split_documents=True,\n",
        ")"
      ],
      "metadata": {
        "id": "05J63oWtIaqK"
      },
      "execution_count": null,
      "outputs": []
    },
    {
      "cell_type": "markdown",
      "source": [
        "### Build Streamlit App"
      ],
      "metadata": {
        "id": "cvO3BV7YSWrh"
      }
    },
    {
      "cell_type": "code",
      "source": [
        "!wget https://i.ibb.co/B6vMCY0/logo-2-final-no-bg.png"
      ],
      "metadata": {
        "id": "BLdt_G81HzLd"
      },
      "execution_count": null,
      "outputs": []
    },
    {
      "cell_type": "code",
      "source": [
        "%%writefile chat_pdf_app.py\n",
        "\n",
        "import os\n",
        "import json\n",
        "import re\n",
        "import tempfile\n",
        "import streamlit as st\n",
        "from PIL import Image\n",
        "\n",
        "from langchain.document_loaders import PyPDFLoader\n",
        "from langchain.memory.chat_message_histories import StreamlitChatMessageHistory\n",
        "from langchain.embeddings import HuggingFaceEmbeddings\n",
        "from langchain.callbacks.base import BaseCallbackHandler\n",
        "from langchain.vectorstores import Chroma\n",
        "from langchain.text_splitter import RecursiveCharacterTextSplitter\n",
        "from langchain.prompts.prompt import PromptTemplate\n",
        "from langchain.llms import HuggingFacePipeline\n",
        "from langchain.chains import RetrievalQA\n",
        "from langchain import LLMChain, PromptTemplate\n",
        "from langchain.retrievers import EnsembleRetriever\n",
        "from ragatouille import RAGPretrainedModel\n",
        "from langchain.llms import Together\n",
        "\n",
        "TOGETHER_API_KEY = \"INSERT YOUR TOGETHER AI API KEY HERE\"      ## You can get your key from here: https://together.ai/\n",
        "\n",
        "favicon = Image.open(\"logo-2-final-no-bg.png\")\n",
        "\n",
        "st.set_page_config(page_title=\"RAG with Mixtral 8x7B and ColBERT\", page_icon=favicon)\n",
        "st.sidebar.image(\"logo-2-final-no-bg.png\", use_column_width=True)\n",
        "with st.sidebar:\n",
        "    st.write(\"**RAG with Mixtral 8x7B and ColBERT**\")\n",
        "\n",
        "# langsmith configuration (recommended)\n",
        "# os.environ[\"LANGCHAIN_PROJECT\"] = \"ADD YOUR PROJECT NAME HERE\"\n",
        "# os.environ[\"LANGCHAIN_API_KEY\"] = \"INSERT YOUR LANGCHAIN API KEY HERE\"          ## You can request access from here: https://smith.langchain.com/\n",
        "# os.environ[\"LANGCHAIN_ENDPOINT\"] =\"https://api.smith.langchain.com\"\n",
        "# os.environ[\"LANGCHAIN_TRACING_V2\"] = \"true\"\n",
        "\n",
        "\n",
        "@st.cache_resource(ttl=\"1h\")\n",
        "def configure_retriever(uploaded_files):\n",
        "    # read documents\n",
        "    docs = []\n",
        "    temp_dir = tempfile.TemporaryDirectory()\n",
        "    for file in uploaded_files:\n",
        "        temp_filepath = os.path.join(temp_dir.name, file.name)\n",
        "        with open(temp_filepath, \"wb\") as f:\n",
        "            f.write(file.getvalue())\n",
        "        loader = PyPDFLoader(temp_filepath)\n",
        "        docs.extend(loader.load())\n",
        "\n",
        "    # split documents\n",
        "    text_splitter = RecursiveCharacterTextSplitter(chunk_size=500, chunk_overlap=50)\n",
        "    splits = text_splitter.split_documents(docs)\n",
        "\n",
        "    # create embeddings and store in vectordb\n",
        "    embeddings = HuggingFaceEmbeddings(model_name=\"BAAI/bge-large-en-v1.5\")\n",
        "    vectordb = Chroma.from_documents(splits, embeddings)\n",
        "\n",
        "    # define retriever\n",
        "    chroma_retriever = vectordb.as_retriever(\n",
        "        search_type=\"mmr\", search_kwargs={\"k\": 4, \"fetch_k\": 10}\n",
        "    )\n",
        "\n",
        "    ## ragatouille/colbert implmentation\n",
        "    RAG = RAGPretrainedModel.from_index(\".ragatouille/colbert/indexes/langchain-index\")\n",
        "    ragatouille_retriever = RAG.as_langchain_retriever(k=10)\n",
        "\n",
        "    ### initialize the ensemble retriever\n",
        "    retriever = EnsembleRetriever(retrievers=[chroma_retriever, ragatouille_retriever],\n",
        "                                            weights=[0.50, 0.50])\n",
        "    return retriever\n",
        "\n",
        "\n",
        "uploaded_files = st.sidebar.file_uploader(\n",
        "    label=\"Upload PDF files\", type=[\"pdf\"], accept_multiple_files=True\n",
        ")\n",
        "if not uploaded_files:\n",
        "    st.info(\"Please upload PDF documents to continue.\")\n",
        "    st.stop()\n",
        "\n",
        "retriever = configure_retriever(uploaded_files)\n",
        "\n",
        "## using Together API\n",
        "os.environ[\"TOGETHER_API_KEY\"] = TOGETHER_API_KEY\n",
        "llm = Together(\n",
        "    model=\"mistralai/Mixtral-8x7B-Instruct-v0.1\",\n",
        "    temperature=0.5,\n",
        "    max_tokens=2048,\n",
        "    top_k=10,\n",
        ")\n",
        "\n",
        "msgs = StreamlitChatMessageHistory()\n",
        "\n",
        "## prompt template\n",
        "RESPONSE_TEMPLATE = \"\"\"<s>[INST]\n",
        "<<SYS>>\n",
        "You are a helpful AI assistant.\n",
        "\n",
        "Use the following pieces of context to answer the user's question.<</SYS>>\n",
        "\n",
        "Anything between the following `context` html blocks is retrieved from a knowledge base.\n",
        "\n",
        "<context>\n",
        "    {context}\n",
        "</context>\n",
        "\n",
        "REMEMBER:\n",
        "- If you don't know the answer, just say that you don't know, don't try to make up an answer.\n",
        "- Let's take a deep breath and think step-by-step.\n",
        "\n",
        "Question: {question}[/INST]\n",
        "Helpful Answer:\n",
        "\"\"\"\n",
        "\n",
        "PROMPT = PromptTemplate.from_template(RESPONSE_TEMPLATE)\n",
        "PROMPT = PromptTemplate(template=RESPONSE_TEMPLATE, input_variables=[\"context\", \"question\"])\n",
        "\n",
        "qa_chain = RetrievalQA.from_chain_type(\n",
        "    llm,\n",
        "    chain_type='stuff',\n",
        "    retriever=retriever,\n",
        "    chain_type_kwargs={\n",
        "        \"verbose\": True,\n",
        "        \"prompt\": PROMPT,\n",
        "    }\n",
        ")\n",
        "\n",
        "\n",
        "if len(msgs.messages) == 0 or st.sidebar.button(\"New Chat\"):\n",
        "    msgs.clear()\n",
        "    msgs.add_ai_message(\"How can I help you?\")\n",
        "\n",
        "avatars = {\"human\": \"user\", \"ai\": \"assistant\"}\n",
        "for msg in msgs.messages:\n",
        "    st.chat_message(avatars[msg.type]).write(msg.content)\n",
        "\n",
        "if user_query := st.chat_input(placeholder=\"Ask me anything!\"):\n",
        "    st.chat_message(\"user\").write(user_query)\n",
        "\n",
        "    with st.chat_message(\"assistant\"):\n",
        "\n",
        "        response = qa_chain({\"query\": user_query})\n",
        "\n",
        "        ## print answer\n",
        "        answer = response[\"result\"]\n",
        "        st.write(answer)\n",
        "\n",
        "about = st.sidebar.expander(\"About\")\n",
        "about.write(\"You can easily chat with a PDF using this AI chatbot. \\\n",
        "            It is build by [AI Geek Labs](https://aigeeklabs.com). Github Repo is [here]()\")"
      ],
      "metadata": {
        "colab": {
          "base_uri": "https://localhost:8080/"
        },
        "id": "LZffZyJ9IKUM",
        "outputId": "2dafb174-6eb4-4e89-c020-3e8811689996"
      },
      "execution_count": 27,
      "outputs": [
        {
          "output_type": "stream",
          "name": "stdout",
          "text": [
            "Overwriting chat_pdf_app.py\n"
          ]
        }
      ]
    },
    {
      "cell_type": "markdown",
      "source": [
        "### Run Streamlit App with ngrok"
      ],
      "metadata": {
        "id": "C37eQ6wrR3C8"
      }
    },
    {
      "cell_type": "code",
      "source": [
        "!wget https://bin.equinox.io/c/4VmDzA7iaHb/ngrok-stable-linux-amd64.zip\n",
        "!unzip -o ngrok-stable-linux-amd64.zip\n",
        "!pip install --quiet pyngrok\n",
        "!pip install --no-dependencies --quiet protobuf==3.20.*\n",
        "!pip install --no-dependencies --quiet validators"
      ],
      "metadata": {
        "id": "gRCqM3QsR2IQ"
      },
      "execution_count": null,
      "outputs": []
    },
    {
      "cell_type": "code",
      "source": [
        "import time\n",
        "\n",
        "get_ipython().system_raw('./ngrok authtoken \"INSERT YOUR NGROK API KEY HERE\"&')             ## You can get the API key from here: https://ngrok.com/\n",
        "\n",
        "get_ipython().system_raw('./ngrok http 8501 &')\n",
        "\n",
        "# Wait for 2 seconds\n",
        "time.sleep(2)\n",
        "\n",
        "!curl -s http://localhost:4040/api/tunnels | python3 -c \\\n",
        "    'import sys, json; print(\"Execute the next cell and the go to the following URL: \" +json.load(sys.stdin)[\"tunnels\"][0][\"public_url\"])'"
      ],
      "metadata": {
        "id": "Czmnj-Z3INJz"
      },
      "execution_count": null,
      "outputs": []
    },
    {
      "cell_type": "code",
      "source": [
        "!streamlit run ./chat_pdf_app.py"
      ],
      "metadata": {
        "id": "ivFCQABgITXJ"
      },
      "execution_count": null,
      "outputs": []
    },
    {
      "cell_type": "markdown",
      "source": [
        "\n",
        "### About\n",
        "\n",
        "##### This notebook is created by AI Geek.\n",
        "\n",
        "##### [Here](https://github.com/aigeek0x0/rag-with-langchain-colbert-and-ragatouille) is the link to the github repo.\n",
        "##### If you want to support my work, consider following me on [twitter](https://twitter.com/aigeek__) & [medium](https://medium.com/@aigeek_). You can also [buy me a coffee](https://www.buymeacoffee.com/aigeek_)."
      ],
      "metadata": {
        "id": "LdEDMCd1WUYH"
      }
    },
    {
      "cell_type": "code",
      "source": [],
      "metadata": {
        "id": "ZDY5Q9GGXBmb"
      },
      "execution_count": null,
      "outputs": []
    }
  ]
}